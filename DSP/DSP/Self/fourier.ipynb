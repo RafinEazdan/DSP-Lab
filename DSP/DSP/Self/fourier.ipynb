{
 "cells": [
  {
   "cell_type": "code",
   "execution_count": null,
   "id": "0f3ef074",
   "metadata": {},
   "outputs": [],
   "source": [
    "import numpy as np\n",
    "import matplotlib.pyplot as plt\n",
    "import math\n",
    "\n",
    "srate = 256\n",
    "t = np.linspace(0,1,1/srate)\n",
    "x1 = 3* np.sin(2*np.pi*4*t)\n",
    "x2 = 4* np.sin(2*np.pi*5*t)\n",
    "x3 = 5* np.sin(2*np.pi*6*t)\n",
    "x = x1+x2+x3\n",
    "X = np.fft.fft(x)\n",
    "# Amplitudes (normalized and doubled to account for symmetric spectrum)\n",
    "amps = 2*np.abs(X) / len(t)"
   ]
  }
 ],
 "metadata": {
  "kernelspec": {
   "display_name": "base",
   "language": "python",
   "name": "python3"
  },
  "language_info": {
   "name": "python",
   "version": "3.11.11"
  }
 },
 "nbformat": 4,
 "nbformat_minor": 5
}
